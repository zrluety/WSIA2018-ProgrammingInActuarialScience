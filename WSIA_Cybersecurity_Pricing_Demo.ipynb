{
 "cells": [
  {
   "cell_type": "markdown",
   "metadata": {
    "slideshow": {
     "slide_type": "slide"
    }
   },
   "source": [
    "# Cybersecurity Pricing Example\n",
    "\n",
    "Big Data Analytics is looking to purchase additional cybersecurity insurance to indemnify lost profits in the event of a security breach or other cyber event, such as a network outage or service interruption. A prior breach has made it difficult for Big Data Analytics to find coverage at in the standard market, so they have decided to insure this risk through a captive.\n",
    "\n",
    "Additionally, the company has stated that their policy should have the following conditions:\n",
    " - A per occurrence limit of 1,000,000\n",
    " - A deductible of 100,000\n",
    " - A maximum benefit of 1,000,000"
   ]
  },
  {
   "cell_type": "code",
   "execution_count": 11,
   "metadata": {
    "slideshow": {
     "slide_type": "subslide"
    }
   },
   "outputs": [],
   "source": [
    "# Policy specifications\n",
    "OCCURRENCE_LIMIT = 1_000_000\n",
    "DEDUCTIBLE = 100_000\n",
    "MAX_BENEFIT = 1_000_000"
   ]
  },
  {
   "cell_type": "markdown",
   "metadata": {
    "slideshow": {
     "slide_type": "slide"
    }
   },
   "source": [
    "In order to establish an appropriate premium for our coverage, Big Data Analytics has contracted you, a pricing actuary specializing in cyber risk policies. Because of the immaturity of the company's loss information, you have decided to rely on Monte Carlo simulation methods with Python to determine a premium. Based on discussion with management, a review of company loss history, and industry statistics, you have determine that the models below are appropriate.\n",
    "\n",
    "$$ N \\sim Poisson(\\lambda=0.2) $$\n",
    "$$ X \\sim Lognormal(\\mu=10.5, \\sigma=2.5) $$\n",
    "\n",
    "### The Python Ecosystem\n",
    "\n",
    "Similar to R, Python has a huge community of data scientists and developers who have open-sourced libraries for you to use in your projects. Using these tools speeds up develpoment time and lets you focus on your business questions rather than worrying about implementation details.\n",
    "\n",
    "The two libraries we are going to use today are some of the most commonly used libraries in any Python project - Numpy and Pandas.\n",
    "\n",
    "- [Pandas Documentation](https://pandas.pydata.org/pandas-docs/stable/)\n",
    "- [Numpy Documentation](https://docs.scipy.org/doc/numpy-1.14.0/reference/)\n",
    "\n"
   ]
  },
  {
   "cell_type": "code",
   "execution_count": 12,
   "metadata": {
    "slideshow": {
     "slide_type": "subslide"
    }
   },
   "outputs": [],
   "source": [
    "import numpy\n",
    "import pandas"
   ]
  },
  {
   "cell_type": "markdown",
   "metadata": {
    "slideshow": {
     "slide_type": "slide"
    }
   },
   "source": [
    "### Think About Maintenance\n",
    "\n",
    "Big data projects can quickly grow beyond what you can keep in your head. Deliberate organization of your code into smaller pieces can help both those reviewing your work, and yourself when you come back six months later and are trying to figure out what you did."
   ]
  },
  {
   "cell_type": "code",
   "execution_count": 13,
   "metadata": {
    "slideshow": {
     "slide_type": "subslide"
    }
   },
   "outputs": [],
   "source": [
    "def apply_per_occurrence_limit(loss, limit):\n",
    "    return min(loss, limit)\n",
    "\n",
    "def apply_deductible(loss, ded):\n",
    "    return loss - ded"
   ]
  },
  {
   "cell_type": "markdown",
   "metadata": {
    "slideshow": {
     "slide_type": "slide"
    }
   },
   "source": [
    "### Double Check\n",
    "\n",
    "Tests allow you to be confident that your code is free from errors. Especially as projects scale, tests can help you be confident that new features don't break work that you have already done."
   ]
  },
  {
   "cell_type": "code",
   "execution_count": 14,
   "metadata": {
    "slideshow": {
     "slide_type": "subslide"
    }
   },
   "outputs": [
    {
     "ename": "AssertionError",
     "evalue": "",
     "output_type": "error",
     "traceback": [
      "\u001b[1;31m---------------------------------------------------------------------------\u001b[0m",
      "\u001b[1;31mAssertionError\u001b[0m                            Traceback (most recent call last)",
      "\u001b[1;32m<ipython-input-14-af3b28b7ae0a>\u001b[0m in \u001b[0;36m<module>\u001b[1;34m()\u001b[0m\n\u001b[1;32m----> 1\u001b[1;33m \u001b[1;32massert\u001b[0m\u001b[1;33m(\u001b[0m\u001b[0mapply_deductible\u001b[0m\u001b[1;33m(\u001b[0m\u001b[1;36m200\u001b[0m\u001b[1;33m,\u001b[0m \u001b[1;36m500\u001b[0m\u001b[1;33m)\u001b[0m \u001b[1;33m==\u001b[0m \u001b[1;36m0\u001b[0m\u001b[1;33m)\u001b[0m\u001b[1;33m\u001b[0m\u001b[0m\n\u001b[0m",
      "\u001b[1;31mAssertionError\u001b[0m: "
     ]
    }
   ],
   "source": [
    "assert(apply_deductible(200, 500) == 0)"
   ]
  },
  {
   "cell_type": "code",
   "execution_count": 15,
   "metadata": {
    "slideshow": {
     "slide_type": "subslide"
    }
   },
   "outputs": [],
   "source": [
    "def apply_deductible(loss, ded):\n",
    "    return max(loss - ded, 0)"
   ]
  },
  {
   "cell_type": "markdown",
   "metadata": {
    "slideshow": {
     "slide_type": "slide"
    }
   },
   "source": [
    "### Price Our Policy!"
   ]
  },
  {
   "cell_type": "code",
   "execution_count": 16,
   "metadata": {
    "slideshow": {
     "slide_type": "fragment"
    }
   },
   "outputs": [],
   "source": [
    "# Simulate claims\n",
    "claims = numpy.random.poisson(lam=0.2, size=100000)"
   ]
  },
  {
   "cell_type": "code",
   "execution_count": 17,
   "metadata": {
    "slideshow": {
     "slide_type": "fragment"
    }
   },
   "outputs": [],
   "source": [
    "# For each claim, simulate a loss\n",
    "losses = numpy.random.lognormal(mean=10.5, sigma=2.5, size=numpy.sum(claims))"
   ]
  },
  {
   "cell_type": "code",
   "execution_count": 18,
   "metadata": {
    "slideshow": {
     "slide_type": "fragment"
    }
   },
   "outputs": [],
   "source": [
    "claims_data = pandas.DataFrame(\n",
    "    {\n",
    "        'year': numpy.repeat(numpy.arange(claims.size), claims),\n",
    "        'loss': losses\n",
    "    },\n",
    "    columns=['year', 'loss']\n",
    ")"
   ]
  },
  {
   "cell_type": "code",
   "execution_count": 19,
   "metadata": {
    "slideshow": {
     "slide_type": "fragment"
    }
   },
   "outputs": [],
   "source": [
    "claims_data['capped_loss'] = claims_data['loss'].apply(apply_per_occurrence_limit, limit=OCCURRENCE_LIMIT)"
   ]
  },
  {
   "cell_type": "code",
   "execution_count": 20,
   "metadata": {
    "slideshow": {
     "slide_type": "fragment"
    }
   },
   "outputs": [],
   "source": [
    "claims_data['loss_less_deductible'] = claims_data['capped_loss'].apply(apply_deductible, ded=DEDUCTIBLE)"
   ]
  },
  {
   "cell_type": "code",
   "execution_count": 21,
   "metadata": {
    "slideshow": {
     "slide_type": "fragment"
    }
   },
   "outputs": [],
   "source": [
    "aggregate_losses = claims_data.groupby(by='year').sum()"
   ]
  },
  {
   "cell_type": "code",
   "execution_count": 22,
   "metadata": {
    "slideshow": {
     "slide_type": "fragment"
    }
   },
   "outputs": [],
   "source": [
    "aggregate_losses['benefit'] = aggregate_losses['loss_less_deductible'].apply(apply_per_occurrence_limit, limit=MAX_BENEFIT)"
   ]
  },
  {
   "cell_type": "code",
   "execution_count": 23,
   "metadata": {
    "slideshow": {
     "slide_type": "fragment"
    }
   },
   "outputs": [],
   "source": [
    "def calculate_premium(losses, plr):\n",
    "    \"\"\"Calculates the premium given loss history and a PLR.\"\"\"\n",
    "    \n",
    "    # Get the loss_cost\n",
    "    loss_cost = losses.mean()\n",
    "    # Premium = Loss Cost / PLR\n",
    "    premium = loss_cost / plr\n",
    "    return premium"
   ]
  },
  {
   "cell_type": "code",
   "execution_count": 24,
   "metadata": {
    "slideshow": {
     "slide_type": "fragment"
    }
   },
   "outputs": [
    {
     "data": {
      "text/plain": [
       "183324.85620034547"
      ]
     },
     "execution_count": 24,
     "metadata": {},
     "output_type": "execute_result"
    }
   ],
   "source": [
    "calculate_premium(losses=aggregate_losses['benefit'], plr=0.85)"
   ]
  },
  {
   "cell_type": "code",
   "execution_count": null,
   "metadata": {},
   "outputs": [],
   "source": []
  }
 ],
 "metadata": {
  "kernelspec": {
   "display_name": "Python 3",
   "language": "python",
   "name": "python3"
  },
  "language_info": {
   "codemirror_mode": {
    "name": "ipython",
    "version": 3
   },
   "file_extension": ".py",
   "mimetype": "text/x-python",
   "name": "python",
   "nbconvert_exporter": "python",
   "pygments_lexer": "ipython3",
   "version": "3.6.4"
  }
 },
 "nbformat": 4,
 "nbformat_minor": 2
}
